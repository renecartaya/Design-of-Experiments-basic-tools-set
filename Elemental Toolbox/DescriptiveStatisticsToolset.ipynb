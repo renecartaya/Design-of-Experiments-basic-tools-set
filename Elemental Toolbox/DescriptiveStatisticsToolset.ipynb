{
 "cells": [
  {
   "cell_type": "code",
   "execution_count": 1,
   "id": "1bcb79ec-36d5-4c13-a416-dccf52cead13",
   "metadata": {},
   "outputs": [],
   "source": [
    "###################################################################################\n",
    "#\n",
    "#   Elemental Statistics Toolbox for Design of Experiments\n",
    "#\n",
    "# Elemental set of statistics tools to perform basic descriptions of the data\n",
    "#\n",
    "####################################################################################"
   ]
  },
  {
   "cell_type": "code",
   "execution_count": 6,
   "id": "d17b0aba-e630-4a68-8501-97759d3003d2",
   "metadata": {},
   "outputs": [
    {
     "name": "stdout",
     "output_type": "stream",
     "text": [
      "Dataset A Statistics\n",
      "----------------------------------------\n",
      "Statistic                 Value          \n",
      "----------------------------------------\n",
      "Mean                      16.764000000000003\n",
      "Median                    16.72          \n",
      "Mode                      16.35          \n",
      "Standard Deviation        0.31644553682707827\n",
      "Variance                  0.10013777777777776\n",
      "Range                     0.8599999999999994\n",
      "Min                       16.35          \n",
      "Max                       17.21          \n",
      "IQR                       0.4875000000000007\n",
      "Count                     10             \n",
      "Sum                       167.64000000000001\n",
      "Coefficient of Variation  0.018876493487656777\n",
      "----------------------------------------\n"
     ]
    }
   ],
   "source": [
    "import numpy as np\n",
    "import pandas as pd\n",
    "\n",
    "def descriptive_statistics(data):\n",
    "    \"\"\"\n",
    "    Calculate basic descriptive statistics for a dataset.\n",
    "    \n",
    "    Parameters:\n",
    "        data (array-like): Input data (list, numpy array, or pandas series).\n",
    "    \n",
    "    Returns:\n",
    "        dict: Dictionary with descriptive statistics.\n",
    "    \"\"\"\n",
    "    data = np.array(data)\n",
    "    stats = {\n",
    "        'Mean': np.mean(data),\n",
    "        'Median': np.median(data),\n",
    "        'Mode': pd.Series(data).mode().iloc[0] if not pd.Series(data).mode().empty else None,\n",
    "        'Standard Deviation': np.std(data, ddof=1),  # Sample SD\n",
    "        'Variance': np.var(data, ddof=1),  # Sample Variance\n",
    "        'Range': np.ptp(data),\n",
    "        'Min': np.min(data),\n",
    "        'Max': np.max(data),\n",
    "        'IQR': np.percentile(data, 75) - np.percentile(data, 25),\n",
    "        'Count': len(data),\n",
    "        'Sum': np.sum(data),\n",
    "        'Coefficient of Variation': (np.std(data, ddof=1) / np.mean(data)) if np.mean(data) != 0 else None\n",
    "    }\n",
    "    return stats\n",
    "\n",
    "def print_single_dataset(data, label=\"Dataset\"):\n",
    "    \"\"\"\n",
    "    Print descriptive statistics for a single dataset in a table format.\n",
    "    \n",
    "    Parameters:\n",
    "        data: Input dataset (array-like).\n",
    "        label: Label for the dataset.\n",
    "    \"\"\"\n",
    "    stats = descriptive_statistics(data)\n",
    "    \n",
    "    # Print header\n",
    "    print(f\"{label} Statistics\")\n",
    "    print(\"-\" * 40)\n",
    "    print(f\"{'Statistic':<25} {'Value':<15}\")\n",
    "    print(\"-\" * 40)\n",
    "    \n",
    "    # Print each statistic line by line\n",
    "    for stat_name, value in stats.items():\n",
    "        print(f\"{stat_name:<25} {value:<15}\")\n",
    "    print(\"-\" * 40)\n",
    "\n",
    "# Example Usage for Single Dataset\n",
    "data = [16.85, 16.40, 17.21, 16.35, 16.52, 17.04, 16.96, 17.15, 16.59, 16.57]\n",
    "print_single_dataset(data, label=\"Dataset A\")\n"
   ]
  },
  {
   "cell_type": "code",
   "execution_count": 4,
   "id": "2eadedb6-a04c-42d4-87fa-11426bc6f1ed",
   "metadata": {},
   "outputs": [
    {
     "name": "stdout",
     "output_type": "stream",
     "text": [
      "Statistic                 Dataset A       Dataset B      \n",
      "-------------------------------------------------------\n",
      "Mean                      16.764000000000003 17.042000000000005\n",
      "Median                    16.72           17.049999999999997\n",
      "Mode                      16.35           16.62          \n",
      "Standard Deviation        0.31644553682707827 0.24791575630084936\n",
      "Variance                  0.10013777777777776 0.06146222222222213\n",
      "Range                     0.8599999999999994 0.75           \n",
      "Min                       16.35           16.62          \n",
      "Max                       17.21           17.37          \n",
      "IQR                       0.4875000000000007 0.33500000000000085\n",
      "Count                     10              10             \n",
      "Sum                       167.64000000000001 170.42000000000004\n",
      "Coefficient of Variation  0.018876493487656777 0.0145473392970807\n"
     ]
    }
   ],
   "source": [
    "import numpy as np\n",
    "import pandas as pd\n",
    "\n",
    "def descriptive_statistics(data):\n",
    "    \"\"\"\n",
    "    Calculate basic descriptive statistics for a dataset.\n",
    "    \n",
    "    Parameters:\n",
    "        data (array-like): Input data (list, numpy array, or pandas series).\n",
    "    \n",
    "    Returns:\n",
    "        dict: Dictionary with descriptive statistics.\n",
    "    \"\"\"\n",
    "    data = np.array(data)\n",
    "    stats = {\n",
    "        'Mean': np.mean(data),\n",
    "        'Median': np.median(data),\n",
    "        'Mode': pd.Series(data).mode().iloc[0] if not pd.Series(data).mode().empty else None,\n",
    "        'Standard Deviation': np.std(data, ddof=1),  # Sample SD\n",
    "        'Variance': np.var(data, ddof=1),  # Sample Variance\n",
    "        'Range': np.ptp(data),\n",
    "        'Min': np.min(data),\n",
    "        'Max': np.max(data),\n",
    "        'IQR': np.percentile(data, 75) - np.percentile(data, 25),\n",
    "        'Count': len(data),\n",
    "        'Sum': np.sum(data),\n",
    "        'Coefficient of Variation': (np.std(data, ddof=1) / np.mean(data)) if np.mean(data) != 0 else None\n",
    "    }\n",
    "    return stats\n",
    "\n",
    "def print_statistics(data1, data2, labels=('Dataset A', 'Dataset B')):\n",
    "    \"\"\"\n",
    "    Calculate and print descriptive statistics for two datasets in tabular format.\n",
    "    \n",
    "    Parameters:\n",
    "        data1, data2: Input datasets (array-like).\n",
    "        labels: Tuple of labels for the datasets.\n",
    "    \"\"\"\n",
    "    stats1 = descriptive_statistics(data1)\n",
    "    stats2 = descriptive_statistics(data2)\n",
    "    \n",
    "    # Print header\n",
    "    print(f\"{'Statistic':<25} {labels[0]:<15} {labels[1]:<15}\")\n",
    "    print(\"-\" * 55)\n",
    "    \n",
    "    # Print each statistic line by line\n",
    "    for stat_name in stats1.keys():\n",
    "        print(f\"{stat_name:<25} {stats1[stat_name]:<15} {stats2[stat_name]:<15}\")\n",
    "\n",
    "# Example Usage\n",
    "data_A = [16.85, 16.40, 17.21, 16.35, 16.52, 17.04, 16.96, 17.15, 16.59, 16.57]\n",
    "data_B = [16.62, 16.75, 17.37, 17.12, 16.98, 16.87, 17.34, 17.02, 17.08, 17.27]\n",
    "\n",
    "print_statistics(data_A, data_B)"
   ]
  },
  {
   "cell_type": "code",
   "execution_count": 3,
   "id": "12ec19b9-e4db-4241-a4ff-223481379e32",
   "metadata": {},
   "outputs": [
    {
     "name": "stdout",
     "output_type": "stream",
     "text": [
      "          count  mean       std   min   25%   50%   75%   max\n",
      "Factor A    5.0   6.2  1.303840   5.0   5.0   6.0   7.0   8.0\n",
      "Factor B    5.0  12.4  2.302173  10.0  10.0  13.0  14.0  15.0\n"
     ]
    }
   ],
   "source": [
    "def dataframe_statistics(df, columns=None):\n",
    "    \"\"\"\n",
    "    Generate descriptive statistics for specific columns in a DataFrame.\n",
    "    \n",
    "    Parameters:\n",
    "        df (pd.DataFrame): Input data.\n",
    "        columns (list, optional): Columns to analyze. If None, analyze all numeric columns.\n",
    "    \n",
    "    Returns:\n",
    "        pd.DataFrame: DataFrame with descriptive statistics.\n",
    "    \"\"\"\n",
    "    if columns is None:\n",
    "        columns = df.select_dtypes(include='number').columns\n",
    "    return df[columns].describe().T\n",
    "\n",
    "# Example Usage\n",
    "data = pd.DataFrame({'Factor A': [5, 7, 8, 5, 6], \n",
    "                     'Factor B': [10, 15, 14, 10, 13]})\n",
    "print(dataframe_statistics(data))"
   ]
  },
  {
   "cell_type": "code",
   "execution_count": 7,
   "id": "ae9ec24b-3649-4c8a-80fe-4fc07625e802",
   "metadata": {},
   "outputs": [
    {
     "data": {
      "image/png": "[encoded data removed]",
      "text/plain": [
       "<Figure size 576x360 with 1 Axes>"
      ]
     },
     "metadata": {
      "needs_background": "light"
     },
     "output_type": "display_data"
    }
   ],
   "source": [
    "import matplotlib.pyplot as plt\n",
    "\n",
    "def plot_dot_diagram(data1, data2, labels=('Dataset A', 'Dataset B')):\n",
    "    \"\"\"\n",
    "    Generate a Dot Diagram for two datasets.\n",
    "    \n",
    "    Parameters:\n",
    "        data1, data2: Input datasets (array-like).\n",
    "        labels: Tuple of labels for the datasets.\n",
    "    \"\"\"\n",
    "    # Create the figure and axis\n",
    "    fig, ax = plt.subplots(figsize=(8, 5))\n",
    "    \n",
    "    # Define positions for the datasets on the y-axis\n",
    "    y1 = [1] * len(data1)  # All points for data1 are plotted at y=1\n",
    "    y2 = [2] * len(data2)  # All points for data2 are plotted at y=2\n",
    "\n",
    "    # Scatter plot for both datasets\n",
    "    ax.scatter(data1, y1, color='blue', label=labels[0], alpha=0.7, edgecolor='black', s=100)\n",
    "    ax.scatter(data2, y2, color='green', label=labels[1], alpha=0.7, edgecolor='black', s=100)\n",
    "\n",
    "    # Adjust y-axis to show labels\n",
    "    ax.set_yticks([1, 2])\n",
    "    ax.set_yticklabels(labels)\n",
    "    \n",
    "    # Add gridlines for clarity\n",
    "    ax.grid(axis='x', linestyle='--', alpha=0.5)\n",
    "\n",
    "    # Add title and labels\n",
    "    ax.set_title('Dot Diagram for Two Datasets', fontsize=14)\n",
    "    ax.set_xlabel('Data Values', fontsize=12)\n",
    "\n",
    "    # Add legend\n",
    "    ax.legend(loc='upper right', frameon=True)\n",
    "\n",
    "    # Show plot\n",
    "    plt.tight_layout()\n",
    "    plt.show()\n",
    "\n",
    "# Example Usage\n",
    "data_A = [16.85, 16.40, 17.21, 16.35, 16.52, 17.04, 16.96, 17.15, 16.59, 16.57]\n",
    "data_B = [16.62, 16.75, 17.37, 17.12, 16.98, 16.87, 17.34, 17.02, 17.08, 17.27]\n",
    "plot_dot_diagram(data_A, data_B, labels=('Dataset A', 'Dataset B'))"
   ]
  },
  {
   "cell_type": "code",
   "execution_count": 8,
   "id": "166e68aa-dd8a-4e50-a721-9879951c801d",
   "metadata": {},
   "outputs": [
    {
     "data": {
      "image/png": "[encoded data removed]",
      "text/plain": [
       "<Figure size 576x432 with 1 Axes>"
      ]
     },
     "metadata": {
      "needs_background": "light"
     },
     "output_type": "display_data"
    }
   ],
   "source": [
    " import matplotlib.pyplot as plt\n",
    "\n",
    "def plot_box_plots(data1, data2, labels=('Dataset A', 'Dataset B')):\n",
    "    \"\"\"\n",
    "    Generate box plots for two datasets.\n",
    "    \n",
    "    Parameters:\n",
    "        data1, data2: Input datasets (array-like).\n",
    "        labels: Tuple of labels for the datasets.\n",
    "    \"\"\"\n",
    "    # Create the figure and axis\n",
    "    fig, ax = plt.subplots(figsize=(8, 6))\n",
    "    \n",
    "    # Combine the data into a list\n",
    "    data = [data1, data2]\n",
    "\n",
    "    # Create the box plot\n",
    "    ax.boxplot(data, labels=labels, patch_artist=True, showmeans=True,\n",
    "               boxprops=dict(facecolor='lightblue', color='blue'),\n",
    "               medianprops=dict(color='red', linewidth=2),\n",
    "               whiskerprops=dict(color='blue', linewidth=1.5),\n",
    "               capprops=dict(color='blue', linewidth=1.5),\n",
    "               meanprops=dict(marker='o', markerfacecolor='green', markersize=10))\n",
    "    \n",
    "    # Add title and labels\n",
    "    ax.set_title('Box Plots for Two Datasets', fontsize=14)\n",
    "    ax.set_ylabel('Values', fontsize=12)\n",
    "\n",
    "    # Add gridlines for clarity\n",
    "    ax.grid(axis='y', linestyle='--', alpha=0.7)\n",
    "\n",
    "    # Show plot\n",
    "    plt.tight_layout()\n",
    "    plt.show()\n",
    "\n",
    "# Example Usage\n",
    "data_A = [16.85, 16.40, 17.21, 16.35, 16.52, 17.04, 16.96, 17.15, 16.59, 16.57]\n",
    "data_B = [16.62, 16.75, 17.37, 17.12, 16.98, 16.87, 17.34, 17.02, 17.08, 17.27]\n",
    "plot_box_plots(data_A, data_B, labels=('Dataset A', 'Dataset B'))"
   ]
  },
  {
   "cell_type": "code",
   "execution_count": null,
   "id": "43803631-59ab-4791-b87a-2c01272fc724",
   "metadata": {},
   "outputs": [],
   "source": []
  }
 ],
 "metadata": {
  "kernelspec": {
   "display_name": "Python 3 (ipykernel)",
   "language": "python",
   "name": "python3"
  },
  "language_info": {
   "codemirror_mode": {
    "name": "ipython",
    "version": 3
   },
   "file_extension": ".py",
   "mimetype": "text/x-python",
   "name": "python",
   "nbconvert_exporter": "python",
   "pygments_lexer": "ipython3",
   "version": "3.9.12"
  }
 },
 "nbformat": 4,
 "nbformat_minor": 5
}
