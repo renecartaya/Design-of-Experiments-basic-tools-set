{
 "cells": [
  {
   "cell_type": "code",
   "execution_count": 1,
   "id": "5aaf3324-4819-47e7-866b-9fa9323330b7",
   "metadata": {},
   "outputs": [],
   "source": [
    "######################################################################################\n",
    "#\n",
    "#             Design of Experiments templates\n",
    "#\n",
    "#\n",
    "#\n",
    "######################################################################################"
   ]
  },
  {
   "cell_type": "code",
   "execution_count": 4,
   "id": "2d71b164-3668-4a7b-8f61-f8c91f69ed95",
   "metadata": {},
   "outputs": [],
   "source": [
    "from pyDOE import *\n",
    "import pyDOE2\n",
    "import numpy as np "
   ]
  },
  {
   "cell_type": "code",
   "execution_count": 46,
   "id": "3872db90-42f1-4496-8140-fc537304cab8",
   "metadata": {},
   "outputs": [
    {
     "data": {
      "text/plain": [
       "array([[0, 0, 0],\n",
       "       [0, 0, 3],\n",
       "       [0, 1, 1],\n",
       "       [0, 2, 2],\n",
       "       [1, 0, 1],\n",
       "       [1, 1, 2],\n",
       "       [1, 2, 0],\n",
       "       [1, 2, 3]])"
      ]
     },
     "execution_count": 46,
     "metadata": {},
     "output_type": "execute_result"
    }
   ],
   "source": [
    "#######################################################################################\n",
    "#                   Full factorial example I\n",
    "#######################################################################################\n",
    "\n",
    "\n",
    "levels = [2, 3, 4]  # Three factors with 2, 3 or 4 levels respectively.\n",
    "reduction = 3       # Reduce the number of experiment to approximately a third.\n",
    "\n",
    "pyDOE2.gsd(levels, reduction)"
   ]
  },
  {
   "cell_type": "code",
   "execution_count": 61,
   "id": "f739f3b6-8e67-4992-b92c-2aacdef8ce0e",
   "metadata": {},
   "outputs": [],
   "source": [
    "#######################################################################################\n",
    "#                   Full factorial example in DOEPY\n",
    "#######################################################################################\n",
    "import pandas as pd\n",
    "import numpy as np\n",
    "from numpy.random import rand\n",
    "import doepy"
   ]
  },
  {
   "cell_type": "code",
   "execution_count": 31,
   "id": "97aaff81-db41-436f-8c82-36cb09ecf7c3",
   "metadata": {},
   "outputs": [],
   "source": [
    "from doepy import build\n",
    "\n",
    "Experimental_parameters = {'Temperature':[300, 350, 400],\n",
    "                           'Pressure':[0.001,0.002,0.003],\n",
    "                           'Flow rate':[0.2,0.4], \n",
    "                           'Time':[1,2,3,4,5]}\n",
    "\n",
    "build.full_fact(Experimental_parameters)\n",
    "\n",
    "fullfactdoe = build.full_fact(Experimental_parameters)\n",
    "# Write the table of combinations in a text file\n",
    "\n",
    "data = fullfactdoe.to_numpy()\n",
    "\n",
    "# Version I using open incomplete\n",
    "\n",
    "with open('C:/Users/renea/Desktop/DEO_fullfact_output.txt', 'w') as f:\n",
    "    f.write('\\nFile with the Experimental Parameters based in Full Factorial design\\n\\n')\n",
    "    f.write('\\nHere could be the name of the columns \\n\\n')\n",
    "    \n",
    "# Version II using the function savetext\n",
    "\n",
    "a_dataframe = fullfactdoe\n",
    "\n",
    "numpy_array = a_dataframe.to_numpy()\n",
    "np.savetxt(\"DEO_fullfact_output.txt\", a_dataframe, fmt = \"%.1f\", delimiter=',', \n",
    "           newline='\\n', header='Set of values \\n\\nTemperature, Pressure, Flow rate, Time\\n\\n', footer='Author: René Alejandro Cartaya López')\n"
   ]
  },
  {
   "cell_type": "code",
   "execution_count": null,
   "id": "b1f37ea2-1d6c-4522-bd99-62d481ad8078",
   "metadata": {},
   "outputs": [],
   "source": [
    "#############################################################################################\n",
    "#############################################################################################\n",
    "##\n",
    "##                                    Latin Hypercube design\n",
    "##\n",
    "#############################################################################################\n",
    "#############################################################################################"
   ]
  },
  {
   "cell_type": "code",
   "execution_count": 24,
   "id": "a635178a-ef5c-414f-afdd-90cfcfac7fe8",
   "metadata": {},
   "outputs": [],
   "source": [
    "from doepy import build\n",
    "\n",
    "Experimental_parameters = {\n",
    "                         'Pressure':[40,55],        # Pressure had more than two levels. Assigning the end point to the high level.\n",
    "                         'Temperature':[290, 320],  # Temperature had more than two levels. Assigning the end point to the high level.\n",
    "                         'Flow rate':[0.2,0.4],\n",
    "                         'Time':[5,11]}\n",
    "\n",
    "num_samples = 12\n",
    "\n",
    "latinhypercube = build.space_filling_lhs(Experimental_parameters,num_samples)\n",
    "\n",
    "#Write the table of combinations in a text file\n",
    "\n",
    "dataframe = latinhypercube\n",
    "\n",
    "numpy_array = dataframe.to_numpy()\n",
    "\n",
    "np.savetxt(\"DEO_LatinHypercube_output.txt\", numpy_array, fmt = \"%.1f\", delimiter=',', \n",
    "           newline='\\n', header='Set of values \\n\\nTemperature, Pressure, Flow rate, Time\\n\\n', footer='\\nAuthor: René Alejandro Cartaya López')"
   ]
  },
  {
   "cell_type": "code",
   "execution_count": null,
   "id": "6098010b-1046-4280-a606-ac0353e92b69",
   "metadata": {},
   "outputs": [],
   "source": [
    "#############################################################################################\n",
    "#############################################################################################\n",
    "##\n",
    "##                                    Plackett-Burman design\n",
    "##\n",
    "#############################################################################################\n",
    "#############################################################################################"
   ]
  },
  {
   "cell_type": "code",
   "execution_count": 22,
   "id": "8344513c-f504-4d87-b5aa-0a8f6e9b040c",
   "metadata": {},
   "outputs": [],
   "source": [
    "from doepy import build\n",
    "import numpy as np \n",
    "import pandas as pd\n",
    "\n",
    "Experimental_parameters = {'Temperature':[300, 350],       # Temperature had more than two levels. Assigning the end point to the high level.\n",
    "                           'Pressure':[0.001,0.002], # Pressure had more than two levels. Assigning the end point to the high level.\n",
    "                           'Flow rate':[0.2,0.4], \n",
    "                           'Time':[1,2]}             # Time had more than two levels. Assigning the end point to the high level.\n",
    "\n",
    "build.plackett_burman(Experimental_parameters)\n",
    "\n",
    "plackett_burmandoe = build.plackett_burman(Experimental_parameters)\n",
    "# Write the table of combinations in a text file\n",
    "\n",
    "data = plackett_burmandoe.to_numpy()\n",
    "\n",
    "# Version I using open incomplete\n",
    "\n",
    "with open('C:/Users/renea/Desktop/DEO_plackett_burman_output.txt', 'w') as f:\n",
    "    f.write('\\nFile with the Experimental Parameters based in Full Factorial design\\n\\n')\n",
    "    f.write('\\nHere could be the name of the columns \\n\\n')\n",
    "    \n",
    "# Version II using the function savetext\n",
    "\n",
    "a_dataframe = data\n",
    "\n",
    "numpy_array = a_dataframe\n",
    "np.savetxt(\"DEO_plackett_burman_output.txt\", numpy_array, fmt = \"%.1f\", delimiter=',', \n",
    "           newline='\\n', header='Set of values \\n\\nTemperature, Pressure, Flow rate, Time\\n\\n', footer='Author: René Alejandro Cartaya López')"
   ]
  },
  {
   "cell_type": "code",
   "execution_count": 1,
   "id": "8ec8272f-5f5e-4a95-bfe0-c95ea4d3212b",
   "metadata": {},
   "outputs": [],
   "source": [
    "#############################################################################################\n",
    "#############################################################################################\n",
    "##\n",
    "##                                    Plackett-Sukharev grid design\n",
    "##\n",
    "#############################################################################################\n",
    "#############################################################################################"
   ]
  },
  {
   "cell_type": "code",
   "execution_count": 10,
   "id": "ab176128-faec-412a-b879-1bc3a51b621c",
   "metadata": {},
   "outputs": [],
   "source": [
    "#############################################################################################\n",
    "#############################################################################################\n",
    "##\n",
    "##                                    Plackett-Box-Behnken design\n",
    "##\n",
    "#############################################################################################\n",
    "#############################################################################################"
   ]
  },
  {
   "cell_type": "code",
   "execution_count": 15,
   "id": "c3c7537b-260e-4875-8095-0e6f170ff985",
   "metadata": {},
   "outputs": [],
   "source": [
    "#############################################################################################\n",
    "#############################################################################################\n",
    "##\n",
    "##                                    Plackett-Box-Wilson (Central-composite)\n",
    "##\n",
    "#############################################################################################\n",
    "#############################################################################################"
   ]
  },
  {
   "cell_type": "code",
   "execution_count": 28,
   "id": "d7e7ce74-348f-4835-b6d5-8fdacfae3eb1",
   "metadata": {},
   "outputs": [],
   "source": [
    "from doepy import build\n",
    "\n",
    "Experimental_parameters = {'Temperature':[300, 350, 400],\n",
    "                           'Pressure':[0.001,0.002,0.003],\n",
    "                           'Flow rate':[0.2,0.4,0.6,0.8,0.99,1.00], # Si le ponemos solo dos nos dice: \"Flow rate had only two end points. Creating a mid-point by averaging them\"\n",
    "                           'Time':[1,2,3,4,5]}\n",
    "\n",
    "build.box_behnken(Experimental_parameters)\n",
    "\n",
    "box_behnken = build.box_behnken(Experimental_parameters)\n",
    "\n",
    "data = box_behnken.to_numpy()\n",
    "\n",
    "# Version I using open incomplete\n",
    "\n",
    "with open('C:/Users/renea/Desktop/DEO_pbox_behnken_output.txt', 'w') as f:\n",
    "    f.write('\\nFile with the Experimental Parameters based in Full Factorial design\\n\\n')\n",
    "    f.write('\\nHere could be the name of the columns \\n\\n')\n",
    "    \n",
    "# Version II using the function savetext\n",
    "\n",
    "a_dataframe = data\n",
    "\n",
    "numpy_array = a_dataframe\n",
    "np.savetxt(\"DEO_box_behnken_output.txt\", numpy_array, fmt = \"%.1f\", delimiter=',', \n",
    "           newline='\\n', header='Set of values \\n\\nTemperature, Pressure, Flow rate, Time\\n\\n', footer='Author: René Alejandro Cartaya López')"
   ]
  },
  {
   "cell_type": "code",
   "execution_count": 17,
   "id": "341d07db-0bfe-4f96-b9de-691c33a82e59",
   "metadata": {},
   "outputs": [],
   "source": [
    "#############################################################################################\n",
    "#############################################################################################\n",
    "##\n",
    "##                                    Plackett-Box-Behnken\n",
    "##\n",
    "#############################################################################################\n",
    "#############################################################################################"
   ]
  },
  {
   "cell_type": "code",
   "execution_count": 19,
   "id": "5b3c67bf-1902-436e-959b-df7fb3d8b9bd",
   "metadata": {},
   "outputs": [],
   "source": [
    "#############################################################################################\n",
    "#############################################################################################\n",
    "##\n",
    "##                                    Plackett-Latin hypercube (simple)\n",
    "##\n",
    "#############################################################################################\n",
    "#############################################################################################"
   ]
  },
  {
   "cell_type": "code",
   "execution_count": 14,
   "id": "75ee9c22-b5c3-43d1-b1d5-566359fbc4de",
   "metadata": {},
   "outputs": [],
   "source": [
    "from doepy import build\n",
    "\n",
    "Experimental_parameters = {'Pressure':[40,55],        # Si le ponemos mas de dos nos dice: \"Pressure had more than two levels. Assigning the end point to the high level\"\n",
    "                           'Temperature':[290, 320], # Si le ponemos mas de dos nos dice: \"Temperature had more than two levels. Assigning the end point to the high level.\"\n",
    "                           'Flow rate':[0.2,0.4],\n",
    "                           'Flow rate':[0.2,0.4],\n",
    "                           'Time':[5,8]}\n",
    "\n",
    "build.lhs(Experimental_parameters)\n",
    "\n",
    "plackett_burmandoe = build.lhs(Experimental_parameters)"
   ]
  },
  {
   "cell_type": "code",
   "execution_count": 22,
   "id": "cb85fa78-1bc7-4876-a8e7-32fc6361a6ce",
   "metadata": {},
   "outputs": [],
   "source": [
    "#############################################################################################\n",
    "#############################################################################################\n",
    "##\n",
    "##                                    Plackett-latin hypercube (space-filling)\n",
    "##\n",
    "#############################################################################################\n",
    "#############################################################################################"
   ]
  },
  {
   "cell_type": "code",
   "execution_count": 13,
   "id": "6c9941a2-5c9a-4c4b-a6e0-1d5162780b92",
   "metadata": {},
   "outputs": [],
   "source": [
    "from doepy import build\n",
    "\n",
    "Experimental_parameters = {'Pressure':[40,55],        # Si le ponemos mas de dos nos dice: \"Pressure had more than two levels. Assigning the end point to the high level\"\n",
    "                           'Temperature':[290, 320], # Si le ponemos mas de dos nos dice: \"Temperature had more than two levels. Assigning the end point to the high level.\"\n",
    "                           'Flow rate':[0.2,0.4],\n",
    "                           'Time':[5,8]}\n",
    "\n",
    "build.space_filling_lhs(Experimental_parameters)\n",
    "\n",
    "plackett_burmandoe = build.space_filling_lhs(Experimental_parameters)"
   ]
  },
  {
   "cell_type": "code",
   "execution_count": 24,
   "id": "76aa89fe-36a3-4527-8505-cd2942eb34ca",
   "metadata": {},
   "outputs": [],
   "source": [
    "#############################################################################################\n",
    "#############################################################################################\n",
    "##\n",
    "##                                    Plackett-Random k-means cluster\n",
    "##\n",
    "#############################################################################################\n",
    "#############################################################################################"
   ]
  },
  {
   "cell_type": "code",
   "execution_count": 11,
   "id": "2824641d-263f-41e5-96f5-37e54d7b4568",
   "metadata": {},
   "outputs": [],
   "source": [
    "from doepy import build\n",
    "\n",
    "Experimental_parameters = {'Pressure':[40,55],          # Si le ponemos mas de dos nos dice: \"Pressure had more than two levels. Assigning the end point to the high level\"\n",
    "                           'Temperature':[290, 320], # Si le ponemos mas de dos nos dice: \"Temperature had more than two levels. Assigning the end point to the high level.\"\n",
    "                           'Flow rate':[0.2,0.4],\n",
    "                           'Time':[5,8]}\n",
    "\n",
    "build.random_k_means(Experimental_parameters)\n",
    "\n",
    "plackett_burmandoe = build.random_k_means(Experimental_parameters)"
   ]
  },
  {
   "cell_type": "code",
   "execution_count": 28,
   "id": "3821cdee-d553-4e76-9bba-f18dae6e1333",
   "metadata": {},
   "outputs": [],
   "source": [
    "#############################################################################################\n",
    "#############################################################################################\n",
    "##\n",
    "##                                    Plackett-Maximin reconstruction\n",
    "##\n",
    "#############################################################################################\n",
    "#############################################################################################"
   ]
  },
  {
   "cell_type": "code",
   "execution_count": 10,
   "id": "8623e3a0-a3eb-4130-8099-ede9fa826184",
   "metadata": {},
   "outputs": [],
   "source": [
    "from doepy import build\n",
    "\n",
    "Experimental_parameters = {'Pressure':[40,55],          # Si le ponemos mas de dos nos dice: \"Pressure had more than two levels. Assigning the end point to the high level\"\n",
    "                           'Temperature':[290, 320], # Si le ponemos mas de dos nos dice: \"Temperature had more than two levels. Assigning the end point to the high level.\"\n",
    "                           'Flow rate':[0.2,0.4],\n",
    "                           'Time':[5,8]}\n",
    "\n",
    "build.maximin(Experimental_parameters)\n",
    "\n",
    "plackett_burmandoe = build.maximin(Experimental_parameters)"
   ]
  },
  {
   "cell_type": "code",
   "execution_count": 30,
   "id": "5486ac05-b440-481b-826b-26de080e51cd",
   "metadata": {},
   "outputs": [],
   "source": [
    "#############################################################################################\n",
    "#############################################################################################\n",
    "##\n",
    "##                                    Plackett-Maximin reconstruction\n",
    "##\n",
    "#############################################################################################\n",
    "#############################################################################################"
   ]
  },
  {
   "cell_type": "code",
   "execution_count": 9,
   "id": "09dfe75b-33eb-4a8c-9a56-71cac666f2fd",
   "metadata": {},
   "outputs": [],
   "source": [
    "from doepy import build\n",
    "\n",
    "Experimental_parameters = {'Pressure':[40,55],        # Si le ponemos mas de dos nos dice: \"Pressure had more than two levels. Assigning the end point to the high level\"\n",
    "                           'Temperature':[290, 320], # Si le ponemos mas de dos nos dice: \"Temperature had more than two levels. Assigning the end point to the high level.\"\n",
    "                           'Flow rate':[0.2,0.4],\n",
    "                           'Time':[5,8]}\n",
    "\n",
    "build.maximin(Experimental_parameters)\n",
    "\n",
    "plackett_burmandoe = build.maximin(Experimental_parameters)"
   ]
  },
  {
   "cell_type": "code",
   "execution_count": 32,
   "id": "1cb6cd0a-079b-4471-b0b8-3ea727dffd16",
   "metadata": {},
   "outputs": [],
   "source": [
    "#############################################################################################\n",
    "#############################################################################################\n",
    "##\n",
    "##                                    Plackett-Halton sequence based\n",
    "##\n",
    "#############################################################################################\n",
    "#############################################################################################"
   ]
  },
  {
   "cell_type": "code",
   "execution_count": null,
   "id": "c9e23a2a-34ea-4cac-b672-d196d4029b66",
   "metadata": {},
   "outputs": [
    {
     "name": "stdout",
     "output_type": "stream",
     "text": [
      "Temperature had more than two levels. Assigning the end point to the high level.\n"
     ]
    }
   ],
   "source": [
    "from doepy import build\n",
    "\n",
    "Experimental_parameters = {'Pressure':[40,55,70],          \n",
    "                           'Temperature':[290, 320, 350],\n",
    "                           'Flow rate':[0.2,0.4],\n",
    "                           'Time':[5,8]}\n",
    "\n",
    "build.halton(Experimental_parameters)\n",
    "\n",
    "plackett_burmandoe = build.halton(Experimental_parameters)"
   ]
  },
  {
   "cell_type": "code",
   "execution_count": 34,
   "id": "cb128adf-2bbf-48d4-bc5b-75295cb5978e",
   "metadata": {},
   "outputs": [],
   "source": [
    "#############################################################################################\n",
    "#############################################################################################\n",
    "##\n",
    "##                                    Plackett-Uniform random matrix\n",
    "##\n",
    "#############################################################################################\n",
    "#############################################################################################"
   ]
  },
  {
   "cell_type": "code",
   "execution_count": 6,
   "id": "fcde418e-916a-4846-83d6-ceb7c8c81ca5",
   "metadata": {},
   "outputs": [],
   "source": [
    "from doepy import build\n",
    "\n",
    "Experimental_parameters = {'Pressure':[40,55],          # Si le ponemos mas de dos nos dice: \"Pressure had more than two levels. Assigning the end point to the high level\"\n",
    "                           'Temperature':[290, 320], # Si le ponemos mas de dos nos dice: \"Temperature had more than two levels. Assigning the end point to the high level.\"\n",
    "                           'Flow rate':[0.2,0.4],\n",
    "                           'Time':[5,8]}\n",
    "\n",
    "build.uniform_random(Experimental_parameters)\n",
    "\n",
    "plackett_burmandoe = build.uniform_random(Experimental_parameters)"
   ]
  },
  {
   "cell_type": "code",
   "execution_count": 34,
   "id": "11b12e21-a6ba-4d8e-84c9-3b5d704e7858",
   "metadata": {},
   "outputs": [],
   "source": [
    "from doepy import build\n",
    "\n",
    "Experimental_parameters = {\n",
    "                         'Pressure':[40,55],        # Pressure had more than two levels. Assigning the end point to the high level.\n",
    "                         'Temperature':[290, 320],  # Temperature had more than two levels. Assigning the end point to the high level.\n",
    "                         'Flow rate':[0.2,0.4],\n",
    "                         'Time':[5,11]}\n",
    "\n",
    "num_samples = 12\n",
    "\n",
    "latinhypercube = build.space_filling_lhs(Experimental_parameters,num_samples)\n",
    "\n",
    "#Write the table of combinations in a text file\n",
    "\n",
    "dataframe = latinhypercube\n",
    "\n",
    "numpy_array = dataframe.to_numpy()\n",
    "\n",
    "np.savetxt(\"DEO_LatinHypercube_output.txt\", numpy_array, fmt = \"%.1f\", delimiter=',', \n",
    "           newline='\\n', header='Set of values \\n\\nTemperature, Pressure, Flow rate, Time\\n\\n', footer='\\nAuthor: René Alejandro Cartaya López')"
   ]
  },
  {
   "cell_type": "code",
   "execution_count": null,
   "id": "c1088648-65f4-438b-aa9d-00f64feb5c48",
   "metadata": {},
   "outputs": [],
   "source": []
  }
 ],
 "metadata": {
  "kernelspec": {
   "display_name": "Python 3 (ipykernel)",
   "language": "python",
   "name": "python3"
  },
  "language_info": {
   "codemirror_mode": {
    "name": "ipython",
    "version": 3
   },
   "file_extension": ".py",
   "mimetype": "text/x-python",
   "name": "python",
   "nbconvert_exporter": "python",
   "pygments_lexer": "ipython3",
   "version": "3.9.7"
  }
 },
 "nbformat": 4,
 "nbformat_minor": 5
}
