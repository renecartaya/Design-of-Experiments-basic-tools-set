{
 "cells": [
  {
   "cell_type": "code",
   "execution_count": 1,
   "id": "5aaf3324-4819-47e7-866b-9fa9323330b7",
   "metadata": {},
   "outputs": [],
   "source": [
    "######################################################################################\n",
    "#\n",
    "#             Design of Experiments templates\n",
    "#\n",
    "#\n",
    "#\n",
    "######################################################################################"
   ]
  },
  {
   "cell_type": "code",
   "execution_count": 27,
   "id": "2d71b164-3668-4a7b-8f61-f8c91f69ed95",
   "metadata": {},
   "outputs": [],
   "source": [
    "from pyDOE import *\n",
    "import pyDOE2\n",
    "import numpy as np "
   ]
  },
  {
   "cell_type": "code",
   "execution_count": 46,
   "id": "3872db90-42f1-4496-8140-fc537304cab8",
   "metadata": {},
   "outputs": [
    {
     "data": {
      "text/plain": [
       "array([[0, 0, 0],\n",
       "       [0, 0, 3],\n",
       "       [0, 1, 1],\n",
       "       [0, 2, 2],\n",
       "       [1, 0, 1],\n",
       "       [1, 1, 2],\n",
       "       [1, 2, 0],\n",
       "       [1, 2, 3]])"
      ]
     },
     "execution_count": 46,
     "metadata": {},
     "output_type": "execute_result"
    }
   ],
   "source": [
    "#######################################################################################\n",
    "#                   Full factorial example I\n",
    "#######################################################################################\n",
    "\n",
    "\n",
    "levels = [2, 3, 4]  # Three factors with 2, 3 or 4 levels respectively.\n",
    "reduction = 3       # Reduce the number of experiment to approximately a third.\n",
    "\n",
    "pyDOE2.gsd(levels, reduction)"
   ]
  },
  {
   "cell_type": "code",
   "execution_count": 61,
   "id": "f739f3b6-8e67-4992-b92c-2aacdef8ce0e",
   "metadata": {},
   "outputs": [],
   "source": [
    "#######################################################################################\n",
    "#                   Full factorial example in DOEPY\n",
    "#######################################################################################\n",
    "import pandas as pd\n",
    "import numpy as np\n",
    "from numpy.random import rand\n",
    "import doepy"
   ]
  },
  {
   "cell_type": "code",
   "execution_count": 142,
   "id": "97aaff81-db41-436f-8c82-36cb09ecf7c3",
   "metadata": {},
   "outputs": [],
   "source": [
    "from doepy import build\n",
    "\n",
    "Experimental_parameters = {'Temperature':[300, 350, 400],\n",
    "                           'Pressure':[0.001,0.002,0.003],\n",
    "                           'Flow rate':[0.2,0.4], \n",
    "                           'Time':[1,2,3,4,5]}\n",
    "\n",
    "build.full_fact(Experimental_parameters)\n",
    "\n",
    "fullfactdoe = build.full_fact(Experimental_parameters)\n",
    "# Write the table of combinations in a text file\n",
    "\n",
    "data = fullfactdoe.to_numpy()\n",
    "\n",
    "# Version I using open incomplete\n",
    "\n",
    "with open('C:/Users/renea/Desktop/DEO_fullfact_output.txt', 'w') as f:\n",
    "    f.write('\\nFile with the Experimental Parameters based in Full Factorial design\\n\\n')\n",
    "    f.write('\\nHere could be the name of the columns \\n\\n')\n",
    "    \n",
    "# Version II using the function savetext\n",
    "\n",
    "a_dataframe = fullfactdoe\n",
    "\n",
    "numpy_array = a_dataframe.to_numpy()\n",
    "np.savetxt(\"DEO_fullfact_output.txt\", numpy_array, fmt = \"%.1f\", delimiter=',', \n",
    "           newline='\\n', header='Set of values \\n\\nTemperature, Pressure, Flow rate, Time\\n\\n', footer='Author: René Alejandro Cartaya López')\n"
   ]
  },
  {
   "cell_type": "code",
   "execution_count": null,
   "id": "b1f37ea2-1d6c-4522-bd99-62d481ad8078",
   "metadata": {},
   "outputs": [],
   "source": [
    "#############################################################################################\n",
    "#############################################################################################\n",
    "##\n",
    "##                                    Latin Hypercube design\n",
    "##\n",
    "#############################################################################################\n",
    "#############################################################################################"
   ]
  },
  {
   "cell_type": "code",
   "execution_count": 143,
   "id": "a635178a-ef5c-414f-afdd-90cfcfac7fe8",
   "metadata": {},
   "outputs": [
    {
     "name": "stdout",
     "output_type": "stream",
     "text": [
      "Pressure had more than two levels. Assigning the end point to the high level.\n",
      "Temperature had more than two levels. Assigning the end point to the high level.\n"
     ]
    }
   ],
   "source": [
    "from doepy import build\n",
    "\n",
    "Experimental_parameters = {\n",
    "                         'Pressure':[40,55,70],\n",
    "                         'Temperature':[290, 320, 350],\n",
    "                         'Flow rate':[0.2,0.4],\n",
    "                         'Time':[5,11]}\n",
    "\n",
    "num_samples = 12\n",
    "\n",
    "latinhypercube = build.space_filling_lhs(Experimental_parameters,num_samples)\n",
    "\n",
    "#Write the table of combinations in a text file\n",
    "\n",
    "dataframe = latinhypercube\n",
    "\n",
    "numpy_array = dataframe.to_numpy()\n",
    "\n",
    "np.savetxt(\"DEO_LatinHypercube_output.txt\", numpy_array, fmt = \"%.1f\", delimiter=',', \n",
    "           newline='\\n', header='Set of values \\n\\nTemperature, Pressure, Flow rate, Time\\n\\n', footer='\\nAuthor: René Alejandro Cartaya López')"
   ]
  },
  {
   "cell_type": "code",
   "execution_count": null,
   "id": "6098010b-1046-4280-a606-ac0353e92b69",
   "metadata": {},
   "outputs": [],
   "source": [
    "#############################################################################################\n",
    "#############################################################################################\n",
    "##\n",
    "##                                    Plackett-Burman design\n",
    "##\n",
    "#############################################################################################\n",
    "#############################################################################################"
   ]
  },
  {
   "cell_type": "code",
   "execution_count": 144,
   "id": "8344513c-f504-4d87-b5aa-0a8f6e9b040c",
   "metadata": {},
   "outputs": [
    {
     "name": "stdout",
     "output_type": "stream",
     "text": [
      "Temperature had more than two levels. Assigning the end point to the high level.\n",
      "Pressure had more than two levels. Assigning the end point to the high level.\n",
      "Time had more than two levels. Assigning the end point to the high level.\n"
     ]
    }
   ],
   "source": [
    "from doepy import build\n",
    "\n",
    "Experimental_parameters = {'Temperature':[300, 350, 400],\n",
    "                           'Pressure':[0.001,0.002,0.003],\n",
    "                           'Flow rate':[0.2,0.4], \n",
    "                           'Time':[1,2,3,4,5]}\n",
    "\n",
    "build.plackett_burman(Experimental_parameters)\n",
    "\n",
    "plackett_burmandoe = build.plackett_burman(Experimental_parameters)\n",
    "# Write the table of combinations in a text file\n",
    "\n",
    "data = fullfactdoe.to_numpy()\n",
    "\n",
    "# Version I using open incomplete\n",
    "\n",
    "with open('C:/Users/renea/Desktop/DEO_plackett_burman_output.txt', 'w') as f:\n",
    "    f.write('\\nFile with the Experimental Parameters based in Full Factorial design\\n\\n')\n",
    "    f.write('\\nHere could be the name of the columns \\n\\n')\n",
    "    \n",
    "# Version II using the function savetext\n",
    "\n",
    "a_dataframe = fullfactdoe\n",
    "\n",
    "numpy_array = a_dataframe.to_numpy()\n",
    "np.savetxt(\"DEO_plackett_burman_output.txt\", numpy_array, fmt = \"%.1f\", delimiter=',', \n",
    "           newline='\\n', header='Set of values \\n\\nTemperature, Pressure, Flow rate, Time\\n\\n', footer='Author: René Alejandro Cartaya López')"
   ]
  },
  {
   "cell_type": "code",
   "execution_count": null,
   "id": "8ec8272f-5f5e-4a95-bfe0-c95ea4d3212b",
   "metadata": {},
   "outputs": [],
   "source": []
  }
 ],
 "metadata": {
  "kernelspec": {
   "display_name": "Python 3 (ipykernel)",
   "language": "python",
   "name": "python3"
  },
  "language_info": {
   "codemirror_mode": {
    "name": "ipython",
    "version": 3
   },
   "file_extension": ".py",
   "mimetype": "text/x-python",
   "name": "python",
   "nbconvert_exporter": "python",
   "pygments_lexer": "ipython3",
   "version": "3.9.7"
  }
 },
 "nbformat": 4,
 "nbformat_minor": 5
}
